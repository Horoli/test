{
  "nbformat": 4,
  "nbformat_minor": 0,
  "metadata": {
    "colab": {
      "name": "basic.ipynb",
      "provenance": [],
      "toc_visible": true,
      "authorship_tag": "ABX9TyPpWLByShykqnqb1HBdzIPw"
    },
    "kernelspec": {
      "name": "python3",
      "display_name": "Python 3"
    },
    "language_info": {
      "name": "python"
    }
  },
  "cells": [
    {
      "cell_type": "markdown",
      "metadata": {
        "id": "NWu6qoi7Fw1A"
      },
      "source": [
        "## List\n"
      ]
    },
    {
      "cell_type": "markdown",
      "metadata": {
        "id": "gAlhpQUKGKix"
      },
      "source": [
        "### apend(추가)\n",
        "- shape = var.append(\"value\") \n",
        "```\n",
        "movie_rank = []\n",
        "moive_rank.append(\"superman\")\n",
        "```"
      ]
    },
    {
      "cell_type": "markdown",
      "metadata": {
        "id": "UDIg4bOhO3Ub"
      },
      "source": [
        "### insert(삽입)\n",
        "- shape = var.insert[index, value]\n",
        "```\n",
        "nums = [1, 2, 3, 4, 5, 6]\n",
        "nums.insert(2, 7)\n",
        "nums\n",
        "# 출력값 = [1, 2, 7, 3, 4, 5, 6]\n",
        "```"
      ]
    },
    {
      "cell_type": "markdown",
      "metadata": {
        "id": "xVitvNWpPhqc"
      },
      "source": [
        "### del(제거)\n",
        "- shape = del nums[index]\n",
        "```\n",
        "nums = [1, 2, 3, 4, 5, 6]\n",
        "del nums[1]\n",
        "nums\n",
        "# 출력값 = [1, 3, 4, 5, 6]\n",
        "```"
      ]
    },
    {
      "cell_type": "markdown",
      "metadata": {
        "id": "1cV0vQLdGKcx"
      },
      "source": [
        "### max(최대값)\n",
        "- shape = max(var)\n",
        "```\n",
        "nums = [1, 2, 3, 4, 5, 6]\n",
        "max(nums)\n",
        "# 출력값 : 6\n",
        "```"
      ]
    },
    {
      "cell_type": "markdown",
      "metadata": {
        "id": "Iy4upUiOHFX9"
      },
      "source": [
        "### min(최소값)\n",
        "- shape = mix(var)\n",
        "```\n",
        "nums = [1, 2, 3, 4, 5, 6]\n",
        "min(nums)\n",
        "# 출력값 : 1\n",
        "```"
      ]
    },
    {
      "cell_type": "markdown",
      "metadata": {
        "id": "F00qQCoAHewj"
      },
      "source": [
        "### sum(합계)\n",
        " - shpae = sum(var)\n",
        " ```\n",
        " nums = [1, 2, 3, 4, 5, 6]\n",
        " sum(nums)\n",
        " # 출력값 : 21\n",
        " ```"
      ]
    },
    {
      "cell_type": "markdown",
      "metadata": {
        "id": "TSOr_QtYLFQk"
      },
      "source": [
        "### len(길이)\n",
        "- shpae = len(var)\n",
        "```\n",
        "nums = [1, 2, 3, 4, 5, 6]\n",
        "len(nums)\n",
        "# 출력값 : 6\n",
        "```"
      ]
    },
    {
      "cell_type": "markdown",
      "metadata": {
        "id": "fyBfat_uLeA8"
      },
      "source": [
        "### 슬라이싱\n",
        " - shape = var[index(start):index(end):step]\n",
        " ```\n",
        " nums = [1, 2, 3, 4, 5, 6]\n",
        " nums[1:] : nums[1]부터 종료 index 까지\n",
        " nums[0:0:2] : 0번 부터 증가폭 2씩 증가\n",
        " nums[::-1] : 역순으로 슬라이싱\n",
        " \n",
        " ```"
      ]
    },
    {
      "cell_type": "markdown",
      "metadata": {
        "id": "I03TRkPBMkNO"
      },
      "source": [
        "### index(번호)\n",
        "- shape = var.index(index)\n",
        "```\n",
        "nums = [1, 2, 3, 4, 5, 6]\n",
        "i = 1\n",
        "nums.index(i)\n",
        "# 출력 값 : 0\n",
        "```\n"
      ]
    },
    {
      "cell_type": "markdown",
      "metadata": {
        "id": "9wM5yb8UNE1P"
      },
      "source": [
        "### pop(제거)\n",
        "- shape = var.pop(index)\n",
        "```\n",
        "nums = [1, 2, 3, 4, 5, 6]\n",
        "i = 1\n",
        "nums.pop(i) # 해당 index를 리스트에서 제거\n",
        "nums\n",
        "출력값 : [1, 3, 4, 5, 6]\n",
        "```"
      ]
    },
    {
      "cell_type": "markdown",
      "metadata": {
        "id": "lQRLRsOANqEo"
      },
      "source": [
        "### sort(오름차순)\n",
        "- shape = var.sort()\n",
        "```\n",
        "nums = [1, 3, 5, 2, 4, 6]\n",
        "nums.sort()\n",
        "출력값 : [1, 2, 3, 4, 5, 6]\n",
        "```"
      ]
    },
    {
      "cell_type": "markdown",
      "metadata": {
        "id": "0XudryJGNsUr"
      },
      "source": [
        "### sorted(오름차순)\n",
        "- shpae = sorted(var)\n",
        "```\n",
        "nums = [1, 3, 5, 2, 4, 6]\n",
        "nums_sort = sorted(nums)\n",
        "nums_sort\n",
        "출력값 : [1, 2, 3, 4, 5, 6]\n",
        "```"
      ]
    },
    {
      "cell_type": "markdown",
      "metadata": {
        "id": "iqxpktvCFdxO"
      },
      "source": [
        "## Dictionary"
      ]
    },
    {
      "cell_type": "markdown",
      "metadata": {
        "id": "V4H4_UAoGm6F"
      },
      "source": [
        "### in\n",
        "- 활용형태\n",
        "```\n",
        "if find_name in user_information:\n",
        "```"
      ]
    },
    {
      "cell_type": "markdown",
      "metadata": {
        "id": "uqftwiR6Ftjr"
      },
      "source": [
        "## 문자열"
      ]
    },
    {
      "cell_type": "markdown",
      "metadata": {
        "id": "xmEchif_F97O"
      },
      "source": [
        "## 연산자\n"
      ]
    },
    {
      "cell_type": "markdown",
      "metadata": {
        "id": "ghX8QRwRGDbC"
      },
      "source": [
        "### %\n",
        "- 나누기 : \n",
        "```\n",
        "3 / 3 = 1\n",
        "```\n",
        "- 나머지 연산\n",
        "```\n",
        "7 % 3 = 1\n",
        "```\n",
        "- 몫 연산\n",
        "``` \n",
        "3 // 3 = 1\n",
        "```"
      ]
    },
    {
      "cell_type": "markdown",
      "metadata": {
        "id": "WUXb5YSKTxQX"
      },
      "source": [
        ""
      ]
    }
  ]
}