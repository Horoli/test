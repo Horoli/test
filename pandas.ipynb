{
  "nbformat": 4,
  "nbformat_minor": 0,
  "metadata": {
    "colab": {
      "name": "pandas.ipynb",
      "provenance": [],
      "collapsed_sections": [],
      "toc_visible": true,
      "authorship_tag": "ABX9TyP/wbLTwHB8ogBTlE0bEUY0",
      "include_colab_link": true
    },
    "kernelspec": {
      "name": "python3",
      "display_name": "Python 3"
    },
    "language_info": {
      "name": "python"
    }
  },
  "cells": [
    {
      "cell_type": "markdown",
      "metadata": {
        "id": "view-in-github",
        "colab_type": "text"
      },
      "source": [
        "<a href=\"https://colab.research.google.com/github/Horoli/TIL/blob/main/pandas.ipynb\" target=\"_parent\"><img src=\"https://colab.research.google.com/assets/colab-badge.svg\" alt=\"Open In Colab\"/></a>"
      ]
    },
    {
      "cell_type": "code",
      "metadata": {
        "colab": {
          "base_uri": "https://localhost:8080/"
        },
        "id": "q531cJtfIPwv",
        "outputId": "dda93434-9b6b-4d77-b9b1-7e7844ecf1bb"
      },
      "source": [
        "# 구글드라이브 연동\n",
        "from google.colab import drive\n",
        "drive.mount('/gdrive', force_remount=True)\n",
        "\n",
        "# 구글 드라이브 파일 확인\n",
        "!ls '/gdrive/My Drive/temp/'\n",
        "\n",
        "# 반복되는 드라이브 경로 변수화\n",
        "drive_path = '/gdrive/My Drive/temp/'"
      ],
      "execution_count": 1,
      "outputs": [
        {
          "output_type": "stream",
          "text": [
            "Mounted at /gdrive\n",
            " 매수종목1.txt\t\t   height_weight.txt\t      score.gsheet\n",
            " 매수종목2.txt\t\t   HelloWorld.xlsx\t      seoul.html\n",
            " adult.data\t\t   little-char.png\t      stock-data.csv\n",
            " auto-mpg.csv\t\t   population_number.csv     'stock price.xlsx'\n",
            " bmi_500.csv\t\t   population_number.gsheet  'stock valuation.xlsx'\n",
            " citibike.csv\t\t   ram_price.csv\t      test555.txt\n",
            " 매수종목.csv\t\t   ratings_small.txt\t      test.db.db\n",
            " database\t\t   ratings_test.txt\t      test.txt\n",
            " data_mine.csv\t\t   ratings_train.txt\t      Traffic_Accident_2017.csv\n",
            " data_population.csv\t   sample1.pdf\t\t      train.csv\n",
            " data_population.gsheet    sample2.pdf\t\t      user_id_mean.csv\n",
            " data_studentlist_en.csv   sample_merge.pdf\t      남북한발전전력량.xlsx\n",
            " demo.docx\t\t   sample.xlsx\n",
            " example.docx\t\t   score.csv\n"
          ],
          "name": "stdout"
        }
      ]
    },
    {
      "cell_type": "markdown",
      "metadata": {
        "id": "bUy96jlfT6FQ"
      },
      "source": [
        "# pandas"
      ]
    },
    {
      "cell_type": "markdown",
      "metadata": {
        "id": "bDppr3HqUS53"
      },
      "source": [
        "## Series\n",
        "- 용도\n",
        "```\n",
        "```"
      ]
    },
    {
      "cell_type": "markdown",
      "metadata": {
        "id": "kYpwOcJnVaFi"
      },
      "source": [
        "### import\n",
        "1. import pandas\n",
        " - 호출 :  `pandas.Series`\n",
        "```\n",
        "import Series\n",
        "```\n",
        "2. from pandas import Series\n",
        " - 호출 : `Series(var)`\n",
        " ```\n",
        " from pandas import Series \n",
        " ```\n",
        "3. from pandas import *\n",
        " - 호출 : `Series`\n",
        " ```\n",
        " from pandas import *\n",
        " ```\n",
        "4. import pandas as pd\n",
        " - 호출 : `pd.Series`\n",
        " ```\n",
        " import pandas as pd\n",
        " ```\n",
        "\n",
        "\n"
      ]
    },
    {
      "cell_type": "markdown",
      "metadata": {
        "id": "Pw4Y6b6OU5U8"
      },
      "source": [
        "### Serise creation\n",
        "- 리스트를 활용하여 표를 간단하게 생성 할 수 있음\n",
        "```\n",
        "from pandas import Series\n",
        "data = [1, 2, 3]\n",
        "s = Series(data)\n",
        "print(s)\n",
        "```\n",
        "- 반복문을 활용하지 않아도 1차원 데이터 연산을 한번에 적용할 수 있음\n",
        "```\n",
        "from pandas import Series\n",
        "data = [1, 2, 3]\n",
        "s = Series(data)\n",
        "print(s * 10)\n",
        "```"
      ]
    },
    {
      "cell_type": "code",
      "metadata": {
        "colab": {
          "base_uri": "https://localhost:8080/"
        },
        "id": "GdUPs2x3Woe6",
        "outputId": "8c52a645-9440-47c7-de64-7e675f37d3ca"
      },
      "source": [
        "from pandas import Series\n",
        "data = [1, 2, 3]\n",
        "s = Series(data)\n",
        "print(s * 10)"
      ],
      "execution_count": null,
      "outputs": [
        {
          "output_type": "stream",
          "text": [
            "0    10\n",
            "1    20\n",
            "2    30\n",
            "dtype: int64\n"
          ],
          "name": "stdout"
        }
      ]
    },
    {
      "cell_type": "markdown",
      "metadata": {
        "id": "lVDs2XaYYCAe"
      },
      "source": [
        "#### 활용\n",
        "- shpae = `Series(data = var1, index = var2)`\n",
        "- Series에서의 인덱스 또한 행 번호는 0번으로 시작됨\n",
        "```\n",
        "from pandas import Series\n",
        "price = [1000, 2000, 3000,]\n",
        "ice = [\"메로나\", \"구구콘\", \"하겐다즈\"]\n",
        "s = Series(data = price, index = ice)\n",
        "print(s)\n",
        "```"
      ]
    },
    {
      "cell_type": "code",
      "metadata": {
        "colab": {
          "base_uri": "https://localhost:8080/"
        },
        "id": "VLcepnE5YWOF",
        "outputId": "f6361d88-1db5-4e0e-dece-9ccb834c6255"
      },
      "source": [
        "from pandas import Series\n",
        "price = [1000, 2000, 3000,]\n",
        "ice = [\"메로나\", \"구구콘\", \"하겐다즈\"]\n",
        "s = Series(data = price, index = ice)\n",
        "print(s)"
      ],
      "execution_count": null,
      "outputs": [
        {
          "output_type": "stream",
          "text": [
            "메로나     1000\n",
            "구구콘     2000\n",
            "하겐다즈    3000\n",
            "dtype: int64\n"
          ],
          "name": "stdout"
        }
      ]
    },
    {
      "cell_type": "markdown",
      "metadata": {
        "id": "VMN9f2PGZinm"
      },
      "source": [
        "```\n",
        "from pandas import Series\n",
        "close = [42500, 42550, 41800, 42550, 42650]\n",
        "date = [\"2019-05-31\", \"2019-05-30\", \"2019-05-29\", \"2019-05-28\", \"2019-05-27\"]\n",
        "s = Series(data=close, index=date)\n",
        "print(s)\n",
        "```\n",
        "- `s = Series(data=close, index=date)`와 같이 날짜같은 데이터도 인덱스로 활용 할 수 있음.\n",
        "- `var.values`를 활용하여 data를 가져올 수 있음.\n",
        "- `var.index`를 활용하여 index 를가져올 수 있음.\n",
        "\n"
      ]
    },
    {
      "cell_type": "code",
      "metadata": {
        "colab": {
          "base_uri": "https://localhost:8080/"
        },
        "id": "A-4DgMRWZlyN",
        "outputId": "25df570f-9476-41d6-edeb-00595efa9c0f"
      },
      "source": [
        "from pandas import Series\n",
        "close = [42500, 42550, 41800, 42550, 42650]\n",
        "date = [\"2019-05-31\", \"2019-05-30\", \"2019-05-29\", \"2019-05-28\", \"2019-05-27\"]\n",
        "s = Series(data=close, index=date)\n",
        "print(s)"
      ],
      "execution_count": 5,
      "outputs": [
        {
          "output_type": "stream",
          "text": [
            "2019-05-31    42500\n",
            "2019-05-30    42550\n",
            "2019-05-29    41800\n",
            "2019-05-28    42550\n",
            "2019-05-27    42650\n",
            "dtype: int64\n"
          ],
          "name": "stdout"
        }
      ]
    },
    {
      "cell_type": "code",
      "metadata": {
        "colab": {
          "base_uri": "https://localhost:8080/"
        },
        "id": "LNm_mu7Qa1aa",
        "outputId": "ed14d155-4cef-4898-f8d6-d0ad3c4bc885"
      },
      "source": [
        "print(s.index)\n",
        "print(s.values)"
      ],
      "execution_count": null,
      "outputs": [
        {
          "output_type": "stream",
          "text": [
            "Index(['2019-05-31', '2019-05-30', '2019-05-29', '2019-05-28', '2019-05-27'], dtype='object')\n",
            "[42500 42550 41800 42550 42650]\n"
          ],
          "name": "stdout"
        }
      ]
    },
    {
      "cell_type": "markdown",
      "metadata": {
        "id": "FgOWvrz6WZoM"
      },
      "source": [
        "### Serise index\n",
        "- Serise 객체는 행 번호와 인덱스로 인덱싱을 할 수 있음.\n",
        "- 파이썬 리스트의 정수 값, 또는 딕셔너리의 key값으로 인덱싱이 가능.\n",
        "- 시리즈 객체에 대한 이덱싱은 `iloc` 속성, `loc` 속성, 또는 대괄호`[]`를 사용함.\n",
        "- 행 번호 인덱싱 `iloc`\n",
        "```\n",
        "from pandas import Series\n",
        "data = [1000, 2000, 3000]\n",
        "s = Series(data=data)\n",
        "print(s.iloc[0])\n",
        "print(s.iloc[1])\n",
        "print(s.iloc[2])\n",
        "print(s.iloc[-1])\n",
        "```\n",
        "- 인덱스 사용시 `loc` \n",
        "- 주의 : 인덱스 사용시 존재하지 않는 인덱스 값을 사용하면 에러가 발생함.\n",
        "```\n",
        "from pandas import Series\n",
        "data = [1000, 2000, 3000]\n",
        "s = Series(data=data)\n",
        "print(s.loc[0])\n",
        "print(s.loc[1])\n",
        "print(s.loc[2])\n",
        "```\n"
      ]
    },
    {
      "cell_type": "code",
      "metadata": {
        "colab": {
          "base_uri": "https://localhost:8080/"
        },
        "id": "D5UskTnnghFO",
        "outputId": "75383571-a3ae-49e8-ea59-c8ade9be8f08"
      },
      "source": [
        "from pandas import Series\n",
        "data = [1000, 2000, 3000]\n",
        "s = Series(data=data)\n",
        "print(s.iloc[0])\n",
        "print(s.iloc[1])\n",
        "print(s.iloc[2])\n",
        "print(s.iloc[-1])"
      ],
      "execution_count": null,
      "outputs": [
        {
          "output_type": "stream",
          "text": [
            "1000\n",
            "2000\n",
            "3000\n",
            "3000\n"
          ],
          "name": "stdout"
        }
      ]
    },
    {
      "cell_type": "code",
      "metadata": {
        "colab": {
          "base_uri": "https://localhost:8080/"
        },
        "id": "vVYnYbssg2qd",
        "outputId": "9b666e3b-c79e-423e-bd2c-add4788d2a45"
      },
      "source": [
        "from pandas import Series\n",
        "data = [1000, 2000, 3000]\n",
        "s = Series(data=data)\n",
        "print(s.loc[0])\n",
        "print(s.loc[1])\n",
        "print(s.loc[2])"
      ],
      "execution_count": 3,
      "outputs": [
        {
          "output_type": "stream",
          "text": [
            "1000\n",
            "2000\n",
            "3000\n"
          ],
          "name": "stdout"
        }
      ]
    },
    {
      "cell_type": "markdown",
      "metadata": {
        "id": "Y6OoXQqQhy_g"
      },
      "source": [
        "#### 활용\n",
        "- `var.iloc[0]` : 인덱스 사용\n",
        "- `var.loc[\"메로나\"]` : 행 번호 사용\n",
        "- `var[\"메로나\"]` : 행 번호 사용\n",
        "```\n",
        "from pandas import Series\n",
        "data = [1000, 2000, 3000]\n",
        "index = [\"메로나\", \"구구콘\", \"하겐다즈\"]\n",
        "s = Series(data=data, index=index)\n",
        "print(s.iloc[0])\n",
        "print(s.loc[\"메로나\"])\n",
        "```"
      ]
    },
    {
      "cell_type": "code",
      "metadata": {
        "colab": {
          "base_uri": "https://localhost:8080/"
        },
        "id": "KlJnr0KfitYZ",
        "outputId": "84b9d6c0-2041-430b-b19d-4a8568d1668f"
      },
      "source": [
        "from pandas import Series\n",
        "data = [1000, 2000, 3000]\n",
        "index = [\"메로나\", \"구구콘\", \"하겐다즈\"]\n",
        "s = Series(data=data, index=index)\n",
        "print(s)\n",
        "print(s.iloc[0]) # index[0] 인 \"메로나\"에 할당된 data(1000)를 가져옴\n",
        "print(s.loc[\"메로나\"]) # index 내의 \"메로나\"에 할당된 data(1000)를 가져옴\n",
        "print(s[\"메로나\"])"
      ],
      "execution_count": 7,
      "outputs": [
        {
          "output_type": "stream",
          "text": [
            "메로나     1000\n",
            "구구콘     2000\n",
            "하겐다즈    3000\n",
            "dtype: int64\n",
            "1000\n",
            "1000\n",
            "1000\n"
          ],
          "name": "stdout"
        }
      ]
    },
    {
      "cell_type": "markdown",
      "metadata": {
        "id": "dsv-IU40cUq-"
      },
      "source": [
        ""
      ]
    },
    {
      "cell_type": "markdown",
      "metadata": {
        "id": "GFS28VJ4VQ7n"
      },
      "source": [
        "## DataFrame"
      ]
    },
    {
      "cell_type": "markdown",
      "metadata": {
        "id": "kohAkwp0JBOo"
      },
      "source": [
        "### pd.DataFrame\n",
        "- 해당 데이터를 판다스 데이터프레임 자료로 변환함"
      ]
    },
    {
      "cell_type": "code",
      "metadata": {
        "colab": {
          "base_uri": "https://localhost:8080/",
          "height": 142
        },
        "id": "qtTHzMwDI_zE",
        "outputId": "fdee1bd0-0206-41b9-c631-06470a0b4073"
      },
      "source": [
        "import pandas as pd\n",
        "data = {'홍길동':[175.3, 66.2, 27.0], '김사또':[180.2,78.9,49.0]}\n",
        "ind = ['키','몸무게','나이']\n",
        "df = pd.DataFrame(data, ind)\n",
        "df"
      ],
      "execution_count": 8,
      "outputs": [
        {
          "output_type": "execute_result",
          "data": {
            "text/html": [
              "<div>\n",
              "<style scoped>\n",
              "    .dataframe tbody tr th:only-of-type {\n",
              "        vertical-align: middle;\n",
              "    }\n",
              "\n",
              "    .dataframe tbody tr th {\n",
              "        vertical-align: top;\n",
              "    }\n",
              "\n",
              "    .dataframe thead th {\n",
              "        text-align: right;\n",
              "    }\n",
              "</style>\n",
              "<table border=\"1\" class=\"dataframe\">\n",
              "  <thead>\n",
              "    <tr style=\"text-align: right;\">\n",
              "      <th></th>\n",
              "      <th>홍길동</th>\n",
              "      <th>김사또</th>\n",
              "    </tr>\n",
              "  </thead>\n",
              "  <tbody>\n",
              "    <tr>\n",
              "      <th>키</th>\n",
              "      <td>175.3</td>\n",
              "      <td>180.2</td>\n",
              "    </tr>\n",
              "    <tr>\n",
              "      <th>몸무게</th>\n",
              "      <td>66.2</td>\n",
              "      <td>78.9</td>\n",
              "    </tr>\n",
              "    <tr>\n",
              "      <th>나이</th>\n",
              "      <td>27.0</td>\n",
              "      <td>49.0</td>\n",
              "    </tr>\n",
              "  </tbody>\n",
              "</table>\n",
              "</div>"
            ],
            "text/plain": [
              "       홍길동    김사또\n",
              "키    175.3  180.2\n",
              "몸무게   66.2   78.9\n",
              "나이    27.0   49.0"
            ]
          },
          "metadata": {
            "tags": []
          },
          "execution_count": 8
        }
      ]
    },
    {
      "cell_type": "markdown",
      "metadata": {
        "id": "14LlLJqnKBUX"
      },
      "source": [
        "### loc, iloc 인덱서\n",
        "- 판다스 데이터프레임 내에 포함된 자료를 인덱싱하는 방법.\n",
        "- loc[,] : 실제 인덱스를 사용하여 행을 가져옴\n",
        "- iloc[,] : numpy의 array인덱싱 방식으로 행을 가져옴"
      ]
    },
    {
      "cell_type": "code",
      "metadata": {
        "colab": {
          "base_uri": "https://localhost:8080/",
          "height": 264
        },
        "id": "KitZJjgPJpx9",
        "outputId": "83a8a7bb-c7b6-4e0a-a7bf-eff20668d3d4"
      },
      "source": [
        "data = {'홍길동':[175.3, 66.2, 27.0], '김사또':[180.2,78.9,49.0]}\n",
        "ind = ['키','몸무게','나이']\n",
        "df = pd.DataFrame(data, ind)\n",
        "display(df)\n",
        "print()\n",
        "display(df.loc['키'])\n",
        "print()\n",
        "display(df.iloc[0:1])"
      ],
      "execution_count": 17,
      "outputs": [
        {
          "output_type": "display_data",
          "data": {
            "text/html": [
              "<div>\n",
              "<style scoped>\n",
              "    .dataframe tbody tr th:only-of-type {\n",
              "        vertical-align: middle;\n",
              "    }\n",
              "\n",
              "    .dataframe tbody tr th {\n",
              "        vertical-align: top;\n",
              "    }\n",
              "\n",
              "    .dataframe thead th {\n",
              "        text-align: right;\n",
              "    }\n",
              "</style>\n",
              "<table border=\"1\" class=\"dataframe\">\n",
              "  <thead>\n",
              "    <tr style=\"text-align: right;\">\n",
              "      <th></th>\n",
              "      <th>홍길동</th>\n",
              "      <th>김사또</th>\n",
              "    </tr>\n",
              "  </thead>\n",
              "  <tbody>\n",
              "    <tr>\n",
              "      <th>키</th>\n",
              "      <td>175.3</td>\n",
              "      <td>180.2</td>\n",
              "    </tr>\n",
              "    <tr>\n",
              "      <th>몸무게</th>\n",
              "      <td>66.2</td>\n",
              "      <td>78.9</td>\n",
              "    </tr>\n",
              "    <tr>\n",
              "      <th>나이</th>\n",
              "      <td>27.0</td>\n",
              "      <td>49.0</td>\n",
              "    </tr>\n",
              "  </tbody>\n",
              "</table>\n",
              "</div>"
            ],
            "text/plain": [
              "       홍길동    김사또\n",
              "키    175.3  180.2\n",
              "몸무게   66.2   78.9\n",
              "나이    27.0   49.0"
            ]
          },
          "metadata": {
            "tags": []
          }
        },
        {
          "output_type": "stream",
          "text": [
            "\n"
          ],
          "name": "stdout"
        },
        {
          "output_type": "display_data",
          "data": {
            "text/plain": [
              "홍길동    175.3\n",
              "김사또    180.2\n",
              "Name: 키, dtype: float64"
            ]
          },
          "metadata": {
            "tags": []
          }
        },
        {
          "output_type": "stream",
          "text": [
            "\n"
          ],
          "name": "stdout"
        },
        {
          "output_type": "display_data",
          "data": {
            "text/html": [
              "<div>\n",
              "<style scoped>\n",
              "    .dataframe tbody tr th:only-of-type {\n",
              "        vertical-align: middle;\n",
              "    }\n",
              "\n",
              "    .dataframe tbody tr th {\n",
              "        vertical-align: top;\n",
              "    }\n",
              "\n",
              "    .dataframe thead th {\n",
              "        text-align: right;\n",
              "    }\n",
              "</style>\n",
              "<table border=\"1\" class=\"dataframe\">\n",
              "  <thead>\n",
              "    <tr style=\"text-align: right;\">\n",
              "      <th></th>\n",
              "      <th>홍길동</th>\n",
              "      <th>김사또</th>\n",
              "    </tr>\n",
              "  </thead>\n",
              "  <tbody>\n",
              "  </tbody>\n",
              "</table>\n",
              "</div>"
            ],
            "text/plain": [
              "Empty DataFrame\n",
              "Columns: [홍길동, 김사또]\n",
              "Index: []"
            ]
          },
          "metadata": {
            "tags": []
          }
        }
      ]
    },
    {
      "cell_type": "markdown",
      "metadata": {
        "id": "1sLEK5w3Kt0p"
      },
      "source": [
        "### CSV 파일 관리"
      ]
    },
    {
      "cell_type": "markdown",
      "metadata": {
        "id": "EgWy-R6-UDq0"
      },
      "source": [
        ""
      ]
    },
    {
      "cell_type": "markdown",
      "metadata": {
        "id": "8LTVkLGsLZ1n"
      },
      "source": [
        "#### 불러오기"
      ]
    },
    {
      "cell_type": "code",
      "metadata": {
        "id": "CMkOdGE5LXuv"
      },
      "source": [
        "# pd.read 명령어로 파일을 열 수 있음.\n",
        "# encoding 방식은 euc-kr 혹은 UTF-8을 주로 활용함\n",
        "# index_col 내용을 추가하면 출력시 인덱스 명이 바뀜\n",
        "p_number = pd.read_csv(drive_path + \"population_number.csv\", index_col = '도시', encoding=\"euc-kr\")"
      ],
      "execution_count": 19,
      "outputs": []
    },
    {
      "cell_type": "markdown",
      "metadata": {
        "id": "-1gs3ZCNT0IG"
      },
      "source": [
        "#### columns(columns 명칭부여)"
      ]
    },
    {
      "cell_type": "code",
      "metadata": {
        "id": "u121iqD_MMEY"
      },
      "source": [
        ""
      ],
      "execution_count": null,
      "outputs": []
    },
    {
      "cell_type": "markdown",
      "metadata": {
        "id": "hJ42_6NcMN4m"
      },
      "source": [
        "### DataFrame 추가"
      ]
    },
    {
      "cell_type": "markdown",
      "metadata": {
        "id": "k0d9avnUL-wG"
      },
      "source": [
        "### 카테고리"
      ]
    },
    {
      "cell_type": "markdown",
      "metadata": {
        "id": "wstzy1fwORKx"
      },
      "source": [
        "### groupby"
      ]
    },
    {
      "cell_type": "markdown",
      "metadata": {
        "id": "VU8Iaa12R3z3"
      },
      "source": [
        "### 정규화"
      ]
    },
    {
      "cell_type": "markdown",
      "metadata": {
        "id": "NKflMXhgSBiZ"
      },
      "source": [
        "### 시계열 데이터"
      ]
    },
    {
      "cell_type": "markdown",
      "metadata": {
        "id": "vuNEUdKIMzgG"
      },
      "source": [
        "### DataFrame 명령어"
      ]
    },
    {
      "cell_type": "markdown",
      "metadata": {
        "id": "k_V-dDmLM8kW"
      },
      "source": [
        "#### T"
      ]
    },
    {
      "cell_type": "markdown",
      "metadata": {
        "id": "c2B7j_FCLyZz"
      },
      "source": [
        "#### mean(평균값)"
      ]
    },
    {
      "cell_type": "markdown",
      "metadata": {
        "id": "MC-HDIeEL451"
      },
      "source": [
        "#### max(최대값)"
      ]
    },
    {
      "cell_type": "markdown",
      "metadata": {
        "id": "dHTTh2t9OTeq"
      },
      "source": [
        ""
      ]
    },
    {
      "cell_type": "markdown",
      "metadata": {
        "id": "u-BnNTWoL7Ag"
      },
      "source": [
        "#### min(최소값)"
      ]
    },
    {
      "cell_type": "markdown",
      "metadata": {
        "id": "G9yrRMLbL2jk"
      },
      "source": [
        "#### sum(합계)"
      ]
    },
    {
      "cell_type": "markdown",
      "metadata": {
        "id": "IKZM4NqdOt86"
      },
      "source": [
        "#### head(앞에 몇개만)"
      ]
    },
    {
      "cell_type": "markdown",
      "metadata": {
        "id": "cfTxufraO1TE"
      },
      "source": [
        "#### tail(뒤에 몇개만)"
      ]
    },
    {
      "cell_type": "markdown",
      "metadata": {
        "id": "uM2sNfrNQ7RW"
      },
      "source": [
        "#### dtypes(전체 데이터 타입 확인)"
      ]
    },
    {
      "cell_type": "markdown",
      "metadata": {
        "id": "RopElgTwOoqL"
      },
      "source": [
        "#### describe(데이터 설명 확인)"
      ]
    },
    {
      "cell_type": "markdown",
      "metadata": {
        "id": "vmFE-C_MQ14F"
      },
      "source": [
        "#### 단위환산"
      ]
    },
    {
      "cell_type": "markdown",
      "metadata": {
        "id": "yJuvUWnzRWUO"
      },
      "source": [
        "#### astype(데이터 형변환)"
      ]
    },
    {
      "cell_type": "markdown",
      "metadata": {
        "id": "R6O0ecXfRE4p"
      },
      "source": [
        "#### replace(텍스트 변환)"
      ]
    },
    {
      "cell_type": "markdown",
      "metadata": {
        "id": "sndbEeoARPJN"
      },
      "source": [
        "#### unique(고유값 확인)"
      ]
    },
    {
      "cell_type": "markdown",
      "metadata": {
        "id": "IPnGpNnzPn6-"
      },
      "source": [
        "#### idxmax(빈도 확인)"
      ]
    },
    {
      "cell_type": "markdown",
      "metadata": {
        "id": "MgfmkHu_RAtl"
      },
      "source": [
        "#### get_dummies(더미데이터 변환)"
      ]
    },
    {
      "cell_type": "markdown",
      "metadata": {
        "id": "ruACth5lQejC"
      },
      "source": [
        "#### round(자리수 표시 설정)"
      ]
    },
    {
      "cell_type": "markdown",
      "metadata": {
        "id": "9wpqm73sPxh3"
      },
      "source": [
        "#### duplicated(중복데이터 확인)"
      ]
    },
    {
      "cell_type": "markdown",
      "metadata": {
        "id": "iPtxNHGhP2Lu"
      },
      "source": [
        "#### drop_duplicates(중복데이터 삭제)"
      ]
    },
    {
      "cell_type": "markdown",
      "metadata": {
        "id": "15QNbJkQPZtY"
      },
      "source": [
        "#### drop(데이터 삭제)"
      ]
    },
    {
      "cell_type": "markdown",
      "metadata": {
        "id": "p1ZOcK-5PTnV"
      },
      "source": [
        "#### dropna(NaN값 삭제"
      ]
    },
    {
      "cell_type": "markdown",
      "metadata": {
        "id": "Lx6_kRSrPD1C"
      },
      "source": [
        "#### isnull(null값 확인)"
      ]
    },
    {
      "cell_type": "markdown",
      "metadata": {
        "id": "NsJ655UlPI0L"
      },
      "source": [
        "#### notnull(null이 아닌값 확인)"
      ]
    },
    {
      "cell_type": "markdown",
      "metadata": {
        "id": "saXZhv7yMvMo"
      },
      "source": [
        "#### info(데이터 정보 확인)"
      ]
    },
    {
      "cell_type": "markdown",
      "metadata": {
        "id": "zcX5uYv6NuMh"
      },
      "source": [
        "#### count(데이터 수량 확인)"
      ]
    },
    {
      "cell_type": "markdown",
      "metadata": {
        "id": "1P_d0yz9NFUn"
      },
      "source": [
        "#### values"
      ]
    },
    {
      "cell_type": "markdown",
      "metadata": {
        "id": "1ZJ1bTkoM_VV"
      },
      "source": [
        "#### value_counts(해당 데이터의 수량 확인)"
      ]
    },
    {
      "cell_type": "markdown",
      "metadata": {
        "id": "uM_Ac6CcO7C-"
      },
      "source": [
        "#### dropna(NaN값 확인)"
      ]
    },
    {
      "cell_type": "markdown",
      "metadata": {
        "id": "G9P9sU3yNLh6"
      },
      "source": [
        "#### apply"
      ]
    },
    {
      "cell_type": "markdown",
      "metadata": {
        "id": "z1B6I0QGNTJC"
      },
      "source": [
        "#### fillna(결측치 변환)"
      ]
    },
    {
      "cell_type": "markdown",
      "metadata": {
        "id": "UtjqVlFAOJYZ"
      },
      "source": [
        "#### nomalize(비율 구하기)"
      ]
    },
    {
      "cell_type": "markdown",
      "metadata": {
        "id": "vGxPWA8JSD41"
      },
      "source": [
        "#### to_datatime(datetime 형식으로 변환)"
      ]
    },
    {
      "cell_type": "markdown",
      "metadata": {
        "id": "_hVEWI2PSMkb"
      },
      "source": [
        "#### data_range(Timestapm 배열만들기)"
      ]
    },
    {
      "cell_type": "markdown",
      "metadata": {
        "id": "hY6QilsvSacg"
      },
      "source": [
        "#### period_range(period 배열 만들기)"
      ]
    },
    {
      "cell_type": "markdown",
      "metadata": {
        "id": "_sZml1OVU_a8"
      },
      "source": [
        "#### 문자형태 변환"
      ]
    }
  ]
}